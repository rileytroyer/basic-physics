{
 "cells": [
  {
   "cell_type": "markdown",
   "metadata": {},
   "source": [
    "# Code to solve magnetic mirror for pulsating aurora\n",
    "\n",
    "written by Riley Troyer Fall 2020"
   ]
  },
  {
   "cell_type": "code",
   "execution_count": 5,
   "metadata": {},
   "outputs": [],
   "source": [
    "from matplotlib import pyplot as plt\n",
    "import math\n",
    "import numpy as np"
   ]
  },
  {
   "cell_type": "code",
   "execution_count": 111,
   "metadata": {},
   "outputs": [],
   "source": [
    "# Constants\n",
    "# Pitch angle measured at equator plane\n",
    "pitch_ang = np.pi/4\n",
    "# Radius of field line at equatorial plane\n",
    "earth_r = 6378\n",
    "r_0 = earth_r*6.6 #km"
   ]
  },
  {
   "cell_type": "code",
   "execution_count": 112,
   "metadata": {},
   "outputs": [],
   "source": [
    "# Radial variable\n",
    "r = np.linspace(0, r_0, 1000)\n",
    "\n",
    "# Function to find zero of\n",
    "def f(r, pitch_ang, r_0):\n",
    "    a = 1/((np.sin(pitch_ang)**4)*r_0**6)\n",
    "    b = 3/r_0\n",
    "    \n",
    "    return a*r**6 + b*r - 4\n",
    "\n",
    "def df_dr(r, pitch_ang, r_0):\n",
    "    a = 6/((np.sin(pitch_ang)**4)*r_0**6)\n",
    "    b = 3/r_0    \n",
    "    \n",
    "    return a*r**5 + b"
   ]
  },
  {
   "cell_type": "code",
   "execution_count": 113,
   "metadata": {},
   "outputs": [],
   "source": [
    "# I want to solve for radial value for\n",
    "#...multiple pitch angles\n",
    "pitch_angs = np.linspace(0.01, np.pi/2, 1000)\n",
    "deg_angs = pitch_angs*(180/np.pi)\n",
    "mirror_r = np.zeros(len(pitch_angs))"
   ]
  },
  {
   "cell_type": "code",
   "execution_count": 114,
   "metadata": {},
   "outputs": [],
   "source": [
    "for n, pitch_ang in enumerate(pitch_angs):\n",
    "\n",
    "    # Numerically solve for zero point with Newton's Method\n",
    "    guess_i = np.argmin(abs(f(r, pitch_ang, r_0)))\n",
    "    guess = r[guess_i]\n",
    "    old_guess = 0\n",
    "\n",
    "    err = 1e-5\n",
    "    ticker = 0\n",
    "\n",
    "    while(abs(guess - old_guess) > err):\n",
    "        # Exit if ticker is larger than number\n",
    "        if ticker > 1000:\n",
    "            print('Convergence not reached.')\n",
    "            break\n",
    "        ticker = ticker + 1\n",
    "\n",
    "        # Perorm Newton's method\n",
    "        old_guess = guess\n",
    "        guess = old_guess - (f(old_guess, pitch_ang, r_0)/\n",
    "                             df_dr(old_guess, pitch_ang, r_0))\n",
    "        \n",
    "    mirror_r[n] = guess"
   ]
  },
  {
   "cell_type": "code",
   "execution_count": 132,
   "metadata": {},
   "outputs": [
    {
     "data": {
      "image/png": "[encoded data removed]",
      "text/plain": [
       "<Figure size 432x288 with 1 Axes>"
      ]
     },
     "metadata": {
      "needs_background": "light"
     },
     "output_type": "display_data"
    }
   ],
   "source": [
    "# Plot radius by pitch angle\n",
    "fig, ax = plt.subplots()\n",
    "plt.plot(deg_angs, mirror_r - earth_r)\n",
    "\n",
    "# Labels\n",
    "ax.set_title('Mirror Point',\n",
    "             fontsize=14, fontweight='bold')\n",
    "ax.set_xlabel('Pitch Angle (degrees)',\n",
    "              fontsize=14, fontweight='bold')\n",
    "ax.set_ylabel('Altitude (km)',\n",
    "              fontsize=14, fontweight='bold')\n",
    "ax.tick_params(labelsize=12)\n",
    "\n",
    "# Axis limits\n",
    "ax.set_ylim(0, 250)\n",
    "ax.set_xlim(2.4, 2.7)\n",
    "\n",
    "plt.tight_layout()\n",
    "plt.savefig('mirror-point.png', dpi=100)"
   ]
  },
  {
   "cell_type": "code",
   "execution_count": null,
   "metadata": {},
   "outputs": [],
   "source": []
  }
 ],
 "metadata": {
  "kernelspec": {
   "display_name": "Python 3",
   "language": "python",
   "name": "python3"
  },
  "language_info": {
   "codemirror_mode": {
    "name": "ipython",
    "version": 3
   },
   "file_extension": ".py",
   "mimetype": "text/x-python",
   "name": "python",
   "nbconvert_exporter": "python",
   "pygments_lexer": "ipython3",
   "version": "3.7.4"
  }
 },
 "nbformat": 4,
 "nbformat_minor": 2
}
